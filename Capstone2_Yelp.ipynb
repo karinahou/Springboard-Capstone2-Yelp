{
 "cells": [
  {
   "cell_type": "code",
   "execution_count": 1,
   "metadata": {},
   "outputs": [
    {
     "name": "stderr",
     "output_type": "stream",
     "text": [
      "[nltk_data] Downloading package stopwords to\n",
      "[nltk_data]     /Users/karinahou/nltk_data...\n",
      "[nltk_data]   Package stopwords is already up-to-date!\n"
     ]
    }
   ],
   "source": [
    "import pandas as pd\n",
    "import re\n",
    "import string\n",
    "import matplotlib\n",
    "import nltk\n",
    "#from nltk import stopwords\n",
    "from nltk.corpus import stopwords\n",
    "nltk.download('stopwords')\n",
    "from nltk.stem.snowball import SnowballStemmer\n",
    "from sklearn.feature_extraction.text import TfidfVectorizer\n",
    "#nltk.download('wordnet')\n",
    "from nltk.stem import WordNetLemmatizer\n",
    "  \n",
    "# importing all necessery modules for word clouds\n",
    "from wordcloud import WordCloud, STOPWORDS \n",
    "import matplotlib.pyplot as plt \n",
    "\n",
    "from sklearn.metrics import confusion_matrix"
   ]
  },
  {
   "cell_type": "code",
   "execution_count": 48,
   "metadata": {},
   "outputs": [],
   "source": [
    "yelp_reviews = pd.read_csv(\"../Data/yelp_review.csv\")"
   ]
  },
  {
   "cell_type": "code",
   "execution_count": 49,
   "metadata": {},
   "outputs": [
    {
     "data": {
      "text/html": [
       "<div>\n",
       "<style scoped>\n",
       "    .dataframe tbody tr th:only-of-type {\n",
       "        vertical-align: middle;\n",
       "    }\n",
       "\n",
       "    .dataframe tbody tr th {\n",
       "        vertical-align: top;\n",
       "    }\n",
       "\n",
       "    .dataframe thead th {\n",
       "        text-align: right;\n",
       "    }\n",
       "</style>\n",
       "<table border=\"1\" class=\"dataframe\">\n",
       "  <thead>\n",
       "    <tr style=\"text-align: right;\">\n",
       "      <th></th>\n",
       "      <th>review_id</th>\n",
       "      <th>user_id</th>\n",
       "      <th>business_id</th>\n",
       "      <th>stars</th>\n",
       "      <th>date</th>\n",
       "      <th>text</th>\n",
       "      <th>useful</th>\n",
       "      <th>funny</th>\n",
       "      <th>cool</th>\n",
       "    </tr>\n",
       "  </thead>\n",
       "  <tbody>\n",
       "    <tr>\n",
       "      <th>0</th>\n",
       "      <td>vkVSCC7xljjrAI4UGfnKEQ</td>\n",
       "      <td>bv2nCi5Qv5vroFiqKGopiw</td>\n",
       "      <td>AEx2SYEUJmTxVVB18LlCwA</td>\n",
       "      <td>5</td>\n",
       "      <td>2016-05-28</td>\n",
       "      <td>Super simple place but amazing nonetheless. It...</td>\n",
       "      <td>0</td>\n",
       "      <td>0</td>\n",
       "      <td>0</td>\n",
       "    </tr>\n",
       "    <tr>\n",
       "      <th>1</th>\n",
       "      <td>n6QzIUObkYshz4dz2QRJTw</td>\n",
       "      <td>bv2nCi5Qv5vroFiqKGopiw</td>\n",
       "      <td>VR6GpWIda3SfvPC-lg9H3w</td>\n",
       "      <td>5</td>\n",
       "      <td>2016-05-28</td>\n",
       "      <td>Small unassuming place that changes their menu...</td>\n",
       "      <td>0</td>\n",
       "      <td>0</td>\n",
       "      <td>0</td>\n",
       "    </tr>\n",
       "    <tr>\n",
       "      <th>2</th>\n",
       "      <td>MV3CcKScW05u5LVfF6ok0g</td>\n",
       "      <td>bv2nCi5Qv5vroFiqKGopiw</td>\n",
       "      <td>CKC0-MOWMqoeWf6s-szl8g</td>\n",
       "      <td>5</td>\n",
       "      <td>2016-05-28</td>\n",
       "      <td>Lester's is located in a beautiful neighborhoo...</td>\n",
       "      <td>0</td>\n",
       "      <td>0</td>\n",
       "      <td>0</td>\n",
       "    </tr>\n",
       "    <tr>\n",
       "      <th>3</th>\n",
       "      <td>IXvOzsEMYtiJI0CARmj77Q</td>\n",
       "      <td>bv2nCi5Qv5vroFiqKGopiw</td>\n",
       "      <td>ACFtxLv8pGrrxMm6EgjreA</td>\n",
       "      <td>4</td>\n",
       "      <td>2016-05-28</td>\n",
       "      <td>Love coming here. Yes the place always needs t...</td>\n",
       "      <td>0</td>\n",
       "      <td>0</td>\n",
       "      <td>0</td>\n",
       "    </tr>\n",
       "    <tr>\n",
       "      <th>4</th>\n",
       "      <td>L_9BTb55X0GDtThi6GlZ6w</td>\n",
       "      <td>bv2nCi5Qv5vroFiqKGopiw</td>\n",
       "      <td>s2I_Ni76bjJNK9yG60iD-Q</td>\n",
       "      <td>4</td>\n",
       "      <td>2016-05-28</td>\n",
       "      <td>Had their chocolate almond croissant and it wa...</td>\n",
       "      <td>0</td>\n",
       "      <td>0</td>\n",
       "      <td>0</td>\n",
       "    </tr>\n",
       "  </tbody>\n",
       "</table>\n",
       "</div>"
      ],
      "text/plain": [
       "                review_id                 user_id             business_id  \\\n",
       "0  vkVSCC7xljjrAI4UGfnKEQ  bv2nCi5Qv5vroFiqKGopiw  AEx2SYEUJmTxVVB18LlCwA   \n",
       "1  n6QzIUObkYshz4dz2QRJTw  bv2nCi5Qv5vroFiqKGopiw  VR6GpWIda3SfvPC-lg9H3w   \n",
       "2  MV3CcKScW05u5LVfF6ok0g  bv2nCi5Qv5vroFiqKGopiw  CKC0-MOWMqoeWf6s-szl8g   \n",
       "3  IXvOzsEMYtiJI0CARmj77Q  bv2nCi5Qv5vroFiqKGopiw  ACFtxLv8pGrrxMm6EgjreA   \n",
       "4  L_9BTb55X0GDtThi6GlZ6w  bv2nCi5Qv5vroFiqKGopiw  s2I_Ni76bjJNK9yG60iD-Q   \n",
       "\n",
       "   stars        date                                               text  \\\n",
       "0      5  2016-05-28  Super simple place but amazing nonetheless. It...   \n",
       "1      5  2016-05-28  Small unassuming place that changes their menu...   \n",
       "2      5  2016-05-28  Lester's is located in a beautiful neighborhoo...   \n",
       "3      4  2016-05-28  Love coming here. Yes the place always needs t...   \n",
       "4      4  2016-05-28  Had their chocolate almond croissant and it wa...   \n",
       "\n",
       "   useful  funny  cool  \n",
       "0       0      0     0  \n",
       "1       0      0     0  \n",
       "2       0      0     0  \n",
       "3       0      0     0  \n",
       "4       0      0     0  "
      ]
     },
     "execution_count": 49,
     "metadata": {},
     "output_type": "execute_result"
    }
   ],
   "source": [
    "yelp_reviews.head()"
   ]
  },
  {
   "cell_type": "code",
   "execution_count": null,
   "metadata": {},
   "outputs": [],
   "source": []
  },
  {
   "cell_type": "code",
   "execution_count": 50,
   "metadata": {},
   "outputs": [],
   "source": [
    "#Group Stars into 3 levels\n",
    "\n",
    "#np.where = if else (1,2 -->1)"
   ]
  },
  {
   "cell_type": "code",
   "execution_count": 51,
   "metadata": {},
   "outputs": [
    {
     "name": "stdout",
     "output_type": "stream",
     "text": [
      "Number of classes 5\n"
     ]
    }
   ],
   "source": [
    "#Selecting 40k of each review number and appending it to a new dataframe of 200k rows\n",
    "\n",
    "yelp_reviews_equal = pd.DataFrame()\n",
    "\n",
    "dataframe_length = 400000\n",
    "\n",
    "number_of_classes = len(yelp_reviews.stars.unique())\n",
    "print(\"Number of classes \" + str(number_of_classes))\n",
    "\n",
    "for x in range(1,number_of_classes):\n",
    "    star_reviews = yelp_reviews.loc[(yelp_reviews['stars']== x)]\n",
    "    star_reviews = star_reviews.head(int(dataframe_length/(int(number_of_classes)-1)))\n",
    "    yelp_reviews_equal = yelp_reviews_equal.append(star_reviews)\n",
    "    "
   ]
  },
  {
   "cell_type": "code",
   "execution_count": 5,
   "metadata": {},
   "outputs": [
    {
     "name": "stdout",
     "output_type": "stream",
     "text": [
      "400000\n"
     ]
    }
   ],
   "source": [
    "print(len(yelp_reviews_equal))"
   ]
  },
  {
   "cell_type": "code",
   "execution_count": 6,
   "metadata": {},
   "outputs": [],
   "source": [
    "del yelp_reviews, star_reviews"
   ]
  },
  {
   "cell_type": "code",
   "execution_count": 7,
   "metadata": {},
   "outputs": [
    {
     "name": "stdout",
     "output_type": "stream",
     "text": [
      "Empty DataFrame\n",
      "Columns: [review_id, user_id, business_id, stars, date, text, useful, funny, cool]\n",
      "Index: []\n"
     ]
    }
   ],
   "source": [
    "#read review text reviews with only 5 star ratings for word cloud\n",
    "\n",
    "five_star_reviews = yelp_reviews_equal.loc[(yelp_reviews_equal['stars']==5)]\n",
    "five_star_reviews = five_star_reviews.head(40000)\n",
    "\n",
    "print(five_star_reviews.head())"
   ]
  },
  {
   "cell_type": "code",
   "execution_count": 8,
   "metadata": {},
   "outputs": [
    {
     "name": "stdout",
     "output_type": "stream",
     "text": [
      "                 review_id                 user_id             business_id  \\\n",
      "12  x5oV6wm9_Pb1QQ6jkjDjwQ  u0LXt3Uea_GidxRW1xcsfg  13nKUHH-uEUXVZylgxchPA   \n",
      "16  FKu4iU62EmWT6GZXPJ2sgA  u0LXt3Uea_GidxRW1xcsfg  fdnNZMk1NP7ZhL-YMidMpw   \n",
      "19  WYDFJOBOl7cycd7gN-c_xA  u0LXt3Uea_GidxRW1xcsfg  zgQHtqX0gqMw1nlBZl2VnQ   \n",
      "23  ypjtMQLKdAwKGRS-KU7oxA  u0LXt3Uea_GidxRW1xcsfg  hjk3ox7w1akbEuOgTJ03Bw   \n",
      "31  z9e32TaBomM5uY7fHYqYKg  u0LXt3Uea_GidxRW1xcsfg  I8rveLd-dl81u6c8YqAxmw   \n",
      "\n",
      "    stars        date                                               text  \\\n",
      "12      1  2011-02-16  I thought Tidy's Flowers had a great reputatio...   \n",
      "16      1  2012-10-23  I too have been trying to book an appt to use ...   \n",
      "19      1  2012-10-30  really excited to hear of this restaurant comi...   \n",
      "23      1  2012-05-10  Food is very bland - not authentic at all.\\n\\n...   \n",
      "31      1  2012-05-11  If you have not yet tried Wasabi - don't bothe...   \n",
      "\n",
      "    useful  funny  cool  \n",
      "12       9      0     1  \n",
      "16       0      0     0  \n",
      "19       9      2     1  \n",
      "23       4      2     0  \n",
      "31       3      0     0  \n",
      "1 Star Review Size 40000\n"
     ]
    }
   ],
   "source": [
    "#read review text reviews with only 1 star ratings for word cloud\n",
    "\n",
    "one_star_reviews = yelp_reviews_equal.loc[(yelp_reviews_equal['stars']==1)]\n",
    "one_star_reviews = one_star_reviews.head(40000)\n",
    "print(one_star_reviews.head())\n",
    "print(\"1 Star Review Size\", len(one_star_reviews))"
   ]
  },
  {
   "cell_type": "code",
   "execution_count": null,
   "metadata": {},
   "outputs": [],
   "source": []
  },
  {
   "cell_type": "code",
   "execution_count": 9,
   "metadata": {},
   "outputs": [
    {
     "data": {
      "text/plain": [
       "'  \\n#yelp_reviews_test = pd.read_csv(\"../Data/yelp_review.csv\", nrows = 10000) \\nwc_five_star_reviews = five_star_reviews.head(10000)\\n                                                                             \\ncomment_words = \\' \\'\\nstopwords = set(STOPWORDS) \\n# iterate through the csv file \\nfor val in wc_five_star_reviews.text: \\n      \\n    # typecaste each val to string \\n    val = str(val) \\n  \\n    # split the value \\n    tokens = val.split() \\n      \\n    # Converts each token into lowercase \\n    for i in range(len(tokens)): \\n        tokens[i] = tokens[i].lower() \\n          \\n    for words in tokens: \\n        comment_words = comment_words + words + \\' \\'\\n  \\n  \\nwordcloud = WordCloud(width = 800, height = 800, \\n                background_color =\\'white\\', \\n                stopwords = stopwords, \\n                min_font_size = 10,\\n                max_words = 100).generate(comment_words) \\n  \\n# plot the WordCloud image                        \\nplt.figure(figsize = (8, 8), facecolor = None) \\nplt.imshow(wordcloud) \\nplt.axis(\"off\") \\nplt.tight_layout(pad = 0) \\n  \\nplt.show()\\n'"
      ]
     },
     "execution_count": 9,
     "metadata": {},
     "output_type": "execute_result"
    }
   ],
   "source": [
    "# Python program to generate WordCloud \n",
    "\n",
    "#word cloud for 10k of 5 star reviews\n",
    "'''  \n",
    "#yelp_reviews_test = pd.read_csv(\"../Data/yelp_review.csv\", nrows = 10000) \n",
    "wc_five_star_reviews = five_star_reviews.head(10000)\n",
    "                                                                             \n",
    "comment_words = ' '\n",
    "stopwords = set(STOPWORDS) \n",
    "# iterate through the csv file \n",
    "for val in wc_five_star_reviews.text: \n",
    "      \n",
    "    # typecaste each val to string \n",
    "    val = str(val) \n",
    "  \n",
    "    # split the value \n",
    "    tokens = val.split() \n",
    "      \n",
    "    # Converts each token into lowercase \n",
    "    for i in range(len(tokens)): \n",
    "        tokens[i] = tokens[i].lower() \n",
    "          \n",
    "    for words in tokens: \n",
    "        comment_words = comment_words + words + ' '\n",
    "  \n",
    "  \n",
    "wordcloud = WordCloud(width = 800, height = 800, \n",
    "                background_color ='white', \n",
    "                stopwords = stopwords, \n",
    "                min_font_size = 10,\n",
    "                max_words = 100).generate(comment_words) \n",
    "  \n",
    "# plot the WordCloud image                        \n",
    "plt.figure(figsize = (8, 8), facecolor = None) \n",
    "plt.imshow(wordcloud) \n",
    "plt.axis(\"off\") \n",
    "plt.tight_layout(pad = 0) \n",
    "  \n",
    "plt.show()\n",
    "'''"
   ]
  },
  {
   "cell_type": "code",
   "execution_count": 10,
   "metadata": {},
   "outputs": [
    {
     "data": {
      "text/plain": [
       "' \\nwc_one_star_reviews = one_star_reviews.head(10000)\\n                                                                             \\ncomment_words = \\' \\'\\nstopwords = set(STOPWORDS) \\n# iterate through the csv file \\nfor val in wc_one_star_reviews.text: \\n      \\n    # typecaste each val to string \\n    val = str(val) \\n  \\n    # split the value \\n    tokens = val.split() \\n      \\n    # Converts each token into lowercase \\n    for i in range(len(tokens)): \\n        tokens[i] = tokens[i].lower() \\n          \\n    for words in tokens: \\n        comment_words = comment_words + words + \\' \\'\\n  \\n  \\nwordcloud = WordCloud(width = 800, height = 800, \\n                background_color =\\'white\\', \\n                stopwords = stopwords, \\n                min_font_size = 10,\\n                max_words = 100).generate(comment_words) \\n  \\n# plot the WordCloud image                        \\nplt.figure(figsize = (8, 8), facecolor = None) \\nplt.imshow(wordcloud) \\nplt.axis(\"off\") \\nplt.tight_layout(pad = 0) \\n  \\nplt.show()\\n'"
      ]
     },
     "execution_count": 10,
     "metadata": {},
     "output_type": "execute_result"
    }
   ],
   "source": [
    "# Python program to generate WordCloud \n",
    "\n",
    "#word cloud for 10k of 1 star reviews\n",
    "''' \n",
    "wc_one_star_reviews = one_star_reviews.head(10000)\n",
    "                                                                             \n",
    "comment_words = ' '\n",
    "stopwords = set(STOPWORDS) \n",
    "# iterate through the csv file \n",
    "for val in wc_one_star_reviews.text: \n",
    "      \n",
    "    # typecaste each val to string \n",
    "    val = str(val) \n",
    "  \n",
    "    # split the value \n",
    "    tokens = val.split() \n",
    "      \n",
    "    # Converts each token into lowercase \n",
    "    for i in range(len(tokens)): \n",
    "        tokens[i] = tokens[i].lower() \n",
    "          \n",
    "    for words in tokens: \n",
    "        comment_words = comment_words + words + ' '\n",
    "  \n",
    "  \n",
    "wordcloud = WordCloud(width = 800, height = 800, \n",
    "                background_color ='white', \n",
    "                stopwords = stopwords, \n",
    "                min_font_size = 10,\n",
    "                max_words = 100).generate(comment_words) \n",
    "  \n",
    "# plot the WordCloud image                        \n",
    "plt.figure(figsize = (8, 8), facecolor = None) \n",
    "plt.imshow(wordcloud) \n",
    "plt.axis(\"off\") \n",
    "plt.tight_layout(pad = 0) \n",
    "  \n",
    "plt.show()\n",
    "'''\n"
   ]
  },
  {
   "cell_type": "code",
   "execution_count": 11,
   "metadata": {},
   "outputs": [
    {
     "data": {
      "text/plain": [
       "12    I thought Tidy's Flowers had a great reputatio...\n",
       "16    I too have been trying to book an appt to use ...\n",
       "19    really excited to hear of this restaurant comi...\n",
       "23    Food is very bland - not authentic at all.\\n\\n...\n",
       "31    If you have not yet tried Wasabi - don't bothe...\n",
       "Name: text, dtype: object"
      ]
     },
     "execution_count": 11,
     "metadata": {},
     "output_type": "execute_result"
    }
   ],
   "source": [
    "yelp_reviews_equal.text.head()"
   ]
  },
  {
   "cell_type": "code",
   "execution_count": 12,
   "metadata": {},
   "outputs": [],
   "source": [
    "#Removing punctuation from the reviews\n",
    "#****use the same dataframe, take things out of memory**\n",
    "yelp_reviews_equal['cleaned_text'] = yelp_reviews_equal['text'].str.replace('[^\\w\\s]','')"
   ]
  },
  {
   "cell_type": "code",
   "execution_count": 13,
   "metadata": {},
   "outputs": [],
   "source": [
    "#making the review text all lowercase\n",
    "yelp_reviews_equal['cleaned_text'] = yelp_reviews_equal['cleaned_text'].str.lower()"
   ]
  },
  {
   "cell_type": "code",
   "execution_count": 14,
   "metadata": {},
   "outputs": [],
   "source": [
    "#removing all numbers from reviews\n",
    "yelp_reviews_equal['cleaned_text'] = yelp_reviews_equal['cleaned_text'].str.replace(r'\\d+', '')"
   ]
  },
  {
   "cell_type": "code",
   "execution_count": 15,
   "metadata": {},
   "outputs": [],
   "source": [
    "#removing _ (underscores) from the review text\n",
    "yelp_reviews_equal['cleaned_text'] = yelp_reviews_equal['cleaned_text'].str.replace('_', '')"
   ]
  },
  {
   "cell_type": "code",
   "execution_count": 16,
   "metadata": {},
   "outputs": [],
   "source": [
    "#splitting each word into a list\n",
    "yelp_reviews_equal['cleaned_text'] = yelp_reviews_equal['cleaned_text'].str.split()"
   ]
  },
  {
   "cell_type": "code",
   "execution_count": 17,
   "metadata": {},
   "outputs": [
    {
     "data": {
      "text/plain": [
       "12    [i, thought, tidys, flowers, had, a, great, re...\n",
       "16    [i, too, have, been, trying, to, book, an, app...\n",
       "19    [really, excited, to, hear, of, this, restaura...\n",
       "23    [food, is, very, bland, not, authentic, at, al...\n",
       "31    [if, you, have, not, yet, tried, wasabi, dont,...\n",
       "Name: cleaned_text, dtype: object"
      ]
     },
     "execution_count": 17,
     "metadata": {},
     "output_type": "execute_result"
    }
   ],
   "source": [
    "yelp_reviews_equal['cleaned_text'].head()"
   ]
  },
  {
   "cell_type": "code",
   "execution_count": 18,
   "metadata": {},
   "outputs": [],
   "source": [
    "#removing all stop words (and, but, then, etc)\n",
    "stop = stopwords.words('english')\n",
    "yelp_reviews_equal['cleaned_text'] = yelp_reviews_equal['cleaned_text'].apply(lambda x: [item for item in x if item not in stop])"
   ]
  },
  {
   "cell_type": "code",
   "execution_count": 19,
   "metadata": {},
   "outputs": [],
   "source": [
    "#stemmer = SnowballStemmer(\"english\")\n",
    "#yelp_reviews['cleaned_text'] = stop_words.apply(lambda x: [stemmer.stem(y) for y in x]) # Stem every word."
   ]
  },
  {
   "cell_type": "code",
   "execution_count": 20,
   "metadata": {},
   "outputs": [],
   "source": [
    "#lemmatize the text and take it out of the list\n",
    "lemmatizer = WordNetLemmatizer()\n",
    "yelp_reviews_equal['cleaned_text'] = yelp_reviews_equal['cleaned_text'].apply(lambda x:' '.join([lemmatizer.lemmatize(y) for y in x])) # Lemmatize every word.\n"
   ]
  },
  {
   "cell_type": "code",
   "execution_count": 21,
   "metadata": {},
   "outputs": [
    {
     "data": {
      "text/plain": [
       "12    thought tidy flower great reputation florist g...\n",
       "16    trying book appt use voucher month countless p...\n",
       "19    really excited hear restaurant coming toronto ...\n",
       "23    food bland authentic meant cater customer neve...\n",
       "31    yet tried wasabi dont bother expensive food di...\n",
       "Name: cleaned_text, dtype: object"
      ]
     },
     "execution_count": 21,
     "metadata": {},
     "output_type": "execute_result"
    }
   ],
   "source": [
    "yelp_reviews_equal['cleaned_text'].head()"
   ]
  },
  {
   "cell_type": "code",
   "execution_count": 22,
   "metadata": {},
   "outputs": [
    {
     "data": {
      "text/html": [
       "<div>\n",
       "<style scoped>\n",
       "    .dataframe tbody tr th:only-of-type {\n",
       "        vertical-align: middle;\n",
       "    }\n",
       "\n",
       "    .dataframe tbody tr th {\n",
       "        vertical-align: top;\n",
       "    }\n",
       "\n",
       "    .dataframe thead th {\n",
       "        text-align: right;\n",
       "    }\n",
       "</style>\n",
       "<table border=\"1\" class=\"dataframe\">\n",
       "  <thead>\n",
       "    <tr style=\"text-align: right;\">\n",
       "      <th></th>\n",
       "      <th>review_id</th>\n",
       "      <th>user_id</th>\n",
       "      <th>business_id</th>\n",
       "      <th>stars</th>\n",
       "      <th>date</th>\n",
       "      <th>text</th>\n",
       "      <th>useful</th>\n",
       "      <th>funny</th>\n",
       "      <th>cool</th>\n",
       "      <th>cleaned_text</th>\n",
       "    </tr>\n",
       "  </thead>\n",
       "  <tbody>\n",
       "    <tr>\n",
       "      <th>12</th>\n",
       "      <td>x5oV6wm9_Pb1QQ6jkjDjwQ</td>\n",
       "      <td>u0LXt3Uea_GidxRW1xcsfg</td>\n",
       "      <td>13nKUHH-uEUXVZylgxchPA</td>\n",
       "      <td>1</td>\n",
       "      <td>2011-02-16</td>\n",
       "      <td>I thought Tidy's Flowers had a great reputatio...</td>\n",
       "      <td>9</td>\n",
       "      <td>0</td>\n",
       "      <td>1</td>\n",
       "      <td>thought tidy flower great reputation florist g...</td>\n",
       "    </tr>\n",
       "    <tr>\n",
       "      <th>16</th>\n",
       "      <td>FKu4iU62EmWT6GZXPJ2sgA</td>\n",
       "      <td>u0LXt3Uea_GidxRW1xcsfg</td>\n",
       "      <td>fdnNZMk1NP7ZhL-YMidMpw</td>\n",
       "      <td>1</td>\n",
       "      <td>2012-10-23</td>\n",
       "      <td>I too have been trying to book an appt to use ...</td>\n",
       "      <td>0</td>\n",
       "      <td>0</td>\n",
       "      <td>0</td>\n",
       "      <td>trying book appt use voucher month countless p...</td>\n",
       "    </tr>\n",
       "    <tr>\n",
       "      <th>19</th>\n",
       "      <td>WYDFJOBOl7cycd7gN-c_xA</td>\n",
       "      <td>u0LXt3Uea_GidxRW1xcsfg</td>\n",
       "      <td>zgQHtqX0gqMw1nlBZl2VnQ</td>\n",
       "      <td>1</td>\n",
       "      <td>2012-10-30</td>\n",
       "      <td>really excited to hear of this restaurant comi...</td>\n",
       "      <td>9</td>\n",
       "      <td>2</td>\n",
       "      <td>1</td>\n",
       "      <td>really excited hear restaurant coming toronto ...</td>\n",
       "    </tr>\n",
       "    <tr>\n",
       "      <th>23</th>\n",
       "      <td>ypjtMQLKdAwKGRS-KU7oxA</td>\n",
       "      <td>u0LXt3Uea_GidxRW1xcsfg</td>\n",
       "      <td>hjk3ox7w1akbEuOgTJ03Bw</td>\n",
       "      <td>1</td>\n",
       "      <td>2012-05-10</td>\n",
       "      <td>Food is very bland - not authentic at all.\\n\\n...</td>\n",
       "      <td>4</td>\n",
       "      <td>2</td>\n",
       "      <td>0</td>\n",
       "      <td>food bland authentic meant cater customer neve...</td>\n",
       "    </tr>\n",
       "    <tr>\n",
       "      <th>31</th>\n",
       "      <td>z9e32TaBomM5uY7fHYqYKg</td>\n",
       "      <td>u0LXt3Uea_GidxRW1xcsfg</td>\n",
       "      <td>I8rveLd-dl81u6c8YqAxmw</td>\n",
       "      <td>1</td>\n",
       "      <td>2012-05-11</td>\n",
       "      <td>If you have not yet tried Wasabi - don't bothe...</td>\n",
       "      <td>3</td>\n",
       "      <td>0</td>\n",
       "      <td>0</td>\n",
       "      <td>yet tried wasabi dont bother expensive food di...</td>\n",
       "    </tr>\n",
       "  </tbody>\n",
       "</table>\n",
       "</div>"
      ],
      "text/plain": [
       "                 review_id                 user_id             business_id  \\\n",
       "12  x5oV6wm9_Pb1QQ6jkjDjwQ  u0LXt3Uea_GidxRW1xcsfg  13nKUHH-uEUXVZylgxchPA   \n",
       "16  FKu4iU62EmWT6GZXPJ2sgA  u0LXt3Uea_GidxRW1xcsfg  fdnNZMk1NP7ZhL-YMidMpw   \n",
       "19  WYDFJOBOl7cycd7gN-c_xA  u0LXt3Uea_GidxRW1xcsfg  zgQHtqX0gqMw1nlBZl2VnQ   \n",
       "23  ypjtMQLKdAwKGRS-KU7oxA  u0LXt3Uea_GidxRW1xcsfg  hjk3ox7w1akbEuOgTJ03Bw   \n",
       "31  z9e32TaBomM5uY7fHYqYKg  u0LXt3Uea_GidxRW1xcsfg  I8rveLd-dl81u6c8YqAxmw   \n",
       "\n",
       "    stars        date                                               text  \\\n",
       "12      1  2011-02-16  I thought Tidy's Flowers had a great reputatio...   \n",
       "16      1  2012-10-23  I too have been trying to book an appt to use ...   \n",
       "19      1  2012-10-30  really excited to hear of this restaurant comi...   \n",
       "23      1  2012-05-10  Food is very bland - not authentic at all.\\n\\n...   \n",
       "31      1  2012-05-11  If you have not yet tried Wasabi - don't bothe...   \n",
       "\n",
       "    useful  funny  cool                                       cleaned_text  \n",
       "12       9      0     1  thought tidy flower great reputation florist g...  \n",
       "16       0      0     0  trying book appt use voucher month countless p...  \n",
       "19       9      2     1  really excited hear restaurant coming toronto ...  \n",
       "23       4      2     0  food bland authentic meant cater customer neve...  \n",
       "31       3      0     0  yet tried wasabi dont bother expensive food di...  "
      ]
     },
     "execution_count": 22,
     "metadata": {},
     "output_type": "execute_result"
    }
   ],
   "source": [
    "yelp_reviews_equal.head()"
   ]
  },
  {
   "cell_type": "code",
   "execution_count": 23,
   "metadata": {},
   "outputs": [
    {
     "data": {
      "text/plain": [
       "review_id       0\n",
       "user_id         0\n",
       "business_id     0\n",
       "stars           0\n",
       "date            0\n",
       "text            0\n",
       "useful          0\n",
       "funny           0\n",
       "cool            0\n",
       "cleaned_text    0\n",
       "dtype: int64"
      ]
     },
     "execution_count": 23,
     "metadata": {},
     "output_type": "execute_result"
    }
   ],
   "source": [
    "#checking for null values\n",
    "yelp_reviews_equal.isnull().sum()"
   ]
  },
  {
   "cell_type": "code",
   "execution_count": 24,
   "metadata": {},
   "outputs": [],
   "source": [
    "from sklearn.feature_extraction.text import CountVectorizer"
   ]
  },
  {
   "cell_type": "code",
   "execution_count": 25,
   "metadata": {},
   "outputs": [
    {
     "data": {
      "text/plain": [
       "\"\\nyelp_reviews_ml = pd.DataFrame()\\n\\nfor x in range(6):\\n    ml_reviews = yelp_reviews_equal.loc[(yelp_reviews_equal['stars']== x)]\\n    ml_reviews = ml_reviews.head(8000)\\n    yelp_reviews_ml = yelp_reviews_ml.append(ml_reviews)\\n\""
      ]
     },
     "execution_count": 25,
     "metadata": {},
     "output_type": "execute_result"
    }
   ],
   "source": [
    "#making a new dataframe with less rows for the sake of machine learning\n",
    "'''\n",
    "yelp_reviews_ml = pd.DataFrame()\n",
    "\n",
    "for x in range(6):\n",
    "    ml_reviews = yelp_reviews_equal.loc[(yelp_reviews_equal['stars']== x)]\n",
    "    ml_reviews = ml_reviews.head(8000)\n",
    "    yelp_reviews_ml = yelp_reviews_ml.append(ml_reviews)\n",
    "'''\n",
    "#print(len(yelp_reviews_ml))"
   ]
  },
  {
   "cell_type": "code",
   "execution_count": null,
   "metadata": {},
   "outputs": [],
   "source": []
  },
  {
   "cell_type": "code",
   "execution_count": 26,
   "metadata": {},
   "outputs": [],
   "source": [
    "#text_data = yelp_reviews_ml['cleaned_text']\n",
    "text_data = yelp_reviews_equal['cleaned_text']"
   ]
  },
  {
   "cell_type": "code",
   "execution_count": 27,
   "metadata": {},
   "outputs": [
    {
     "name": "stdout",
     "output_type": "stream",
     "text": [
      "['aa', 'aaa', 'aaaa', 'aaaaa', 'aaaaaaaaaa', 'aaaaaaaaaaaaaaaaaaaaaaaaaaahahahahahahahahahahahahahahahhahahahahahahhahaaaaaaaaaaaaaaaaaaaaahahmmmm', 'aaaaaaaaaaaaaand', 'aaaaaaaaaaaaalso', 'aaaaaaaaaaand', 'aaaaaaaaaages']\n",
      "(400000, 294281)\n"
     ]
    }
   ],
   "source": [
    "#use tokenizer as an argument, get feautre names, n-gram range =  1\n",
    "\n",
    "#Use count vect\n",
    "count_vect = CountVectorizer()\n",
    "X_train_counts = count_vect.fit_transform(text_data)\n",
    "print(count_vect.get_feature_names()[:10])\n",
    "print(X_train_counts.shape)\n",
    "\n"
   ]
  },
  {
   "cell_type": "code",
   "execution_count": 28,
   "metadata": {},
   "outputs": [
    {
     "name": "stdout",
     "output_type": "stream",
     "text": [
      "  (0, 287562)\t0.10971269346860794\n",
      "  (0, 280441)\t0.04092494676244442\n",
      "  (0, 273149)\t0.1283601910964854\n",
      "  (0, 272650)\t0.39628800434869127\n",
      "  (0, 268608)\t0.09017641365662647\n",
      "  (0, 258419)\t0.22007199296852203\n",
      "  (0, 257613)\t0.04995588124113553\n",
      "  (0, 250348)\t0.04196613046865003\n",
      "  (0, 248608)\t0.07389501843845407\n",
      "  (0, 243288)\t0.11247403088193658\n",
      "  (0, 238783)\t0.08274055689514895\n",
      "  (0, 234076)\t0.04575972908022826\n",
      "  (0, 231536)\t0.0721254016605482\n",
      "  (0, 230090)\t0.1359584707563493\n",
      "  (0, 229753)\t0.06104134351940207\n",
      "  (0, 217873)\t0.04107900017118067\n",
      "  (0, 215516)\t0.3799295262284552\n",
      "  (0, 210364)\t0.13816807533350164\n",
      "  (0, 210124)\t0.09410837289162434\n",
      "  (0, 206467)\t0.06061234646534673\n",
      "  (0, 205903)\t0.03363026374174413\n",
      "  (0, 192450)\t0.07226931492437093\n",
      "  (0, 192399)\t0.026064039627420293\n",
      "  (0, 180698)\t0.1297427799599317\n",
      "  (0, 179968)\t0.11254166307032418\n",
      "  :\t:\n",
      "  (0, 112888)\t0.06558635517110907\n",
      "  (0, 112878)\t0.07247400708028638\n",
      "  (0, 112507)\t0.08930874837950373\n",
      "  (0, 109951)\t0.05626955523796379\n",
      "  (0, 108248)\t0.06145493267607562\n",
      "  (0, 107915)\t0.03277025674892139\n",
      "  (0, 102981)\t0.11762116213523703\n",
      "  (0, 97475)\t0.09090296586733702\n",
      "  (0, 93586)\t0.3701643136438026\n",
      "  (0, 93511)\t0.36152986658656244\n",
      "  (0, 90342)\t0.118486411058608\n",
      "  (0, 85659)\t0.06153175607984031\n",
      "  (0, 73146)\t0.08127863703221866\n",
      "  (0, 67422)\t0.03609217585450541\n",
      "  (0, 64952)\t0.0738855904682456\n",
      "  (0, 64945)\t0.08018134117488873\n",
      "  (0, 62504)\t0.20564971930723508\n",
      "  (0, 60709)\t0.06021023267717724\n",
      "  (0, 53356)\t0.08974584707989747\n",
      "  (0, 52364)\t0.0647806101551864\n",
      "  (0, 43183)\t0.06513253518583698\n",
      "  (0, 37878)\t0.10142559169785637\n",
      "  (0, 35588)\t0.110518663421775\n",
      "  (0, 30934)\t0.06867882301034607\n",
      "  (0, 2031)\t0.05018292579148798\n"
     ]
    }
   ],
   "source": [
    "vec = TfidfVectorizer(stop_words=\"english\")\n",
    "\n",
    "#vec.fit(yelp_reviews.cleaned_text)\n",
    "vec.fit(yelp_reviews_equal.cleaned_text.values.astype('U'))\n",
    "features = vec.transform(yelp_reviews_equal.cleaned_text)\n",
    "\n",
    "print(features[:1])"
   ]
  },
  {
   "cell_type": "code",
   "execution_count": null,
   "metadata": {},
   "outputs": [],
   "source": []
  },
  {
   "cell_type": "code",
   "execution_count": null,
   "metadata": {},
   "outputs": [],
   "source": [
    "#print(features.toarray())"
   ]
  },
  {
   "cell_type": "code",
   "execution_count": null,
   "metadata": {},
   "outputs": [],
   "source": [
    "#print(yelp_reviews_ml.describe())"
   ]
  },
  {
   "cell_type": "code",
   "execution_count": 29,
   "metadata": {},
   "outputs": [
    {
     "name": "stdout",
     "output_type": "stream",
     "text": [
      "(400000, 294281)\n"
     ]
    }
   ],
   "source": [
    "from sklearn.feature_extraction.text import TfidfVectorizer\n",
    "\n",
    "tfidf_vect = TfidfVectorizer()\n",
    "X_tfidf = tfidf_vect.fit_transform(yelp_reviews_equal.cleaned_text)\n",
    "print(X_tfidf.shape)\n"
   ]
  },
  {
   "cell_type": "code",
   "execution_count": 30,
   "metadata": {},
   "outputs": [
    {
     "name": "stdout",
     "output_type": "stream",
     "text": [
      "['aa', 'aaa', 'aaaa', 'aaaaa', 'aaaaaaaaaa', 'aaaaaaaaaaaaaaaaaaaaaaaaaaahahahahahahahahahahahahahahahhahahahahahahhahaaaaaaaaaaaaaaaaaaaaahahmmmm', 'aaaaaaaaaaaaaand', 'aaaaaaaaaaaaalso', 'aaaaaaaaaaand', 'aaaaaaaaaages']\n"
     ]
    }
   ],
   "source": [
    "print(tfidf_vect.get_feature_names()[:10])"
   ]
  },
  {
   "cell_type": "code",
   "execution_count": null,
   "metadata": {},
   "outputs": [],
   "source": [
    "#test train split, use train in validation, fit model.\n",
    "#best practice: apply best parameters on the 20% of validation test and compare accuracy\n",
    "#applied before fitting (**train_test_split**)"
   ]
  },
  {
   "cell_type": "code",
   "execution_count": 31,
   "metadata": {},
   "outputs": [],
   "source": [
    "X = X_train_counts\n",
    "y = yelp_reviews_equal.stars\n",
    "\n",
    "#Change so that 1&2, 3, 4&5"
   ]
  },
  {
   "cell_type": "code",
   "execution_count": 32,
   "metadata": {},
   "outputs": [],
   "source": [
    "from sklearn import model_selection"
   ]
  },
  {
   "cell_type": "code",
   "execution_count": 33,
   "metadata": {},
   "outputs": [],
   "source": [
    "X_train, X_test, y_train, y_test = model_selection.train_test_split(X, y, train_size=0.80,test_size=0.20, random_state=42)"
   ]
  },
  {
   "cell_type": "code",
   "execution_count": 34,
   "metadata": {},
   "outputs": [],
   "source": [
    "#Random Forest for the test model\n",
    "\n",
    "from sklearn.ensemble import RandomForestClassifier\n",
    "from sklearn.model_selection import GridSearchCV\n",
    "\n",
    "rf = RandomForestClassifier()\n",
    "param = {'n_estimators': [1, 50 ,100],\n",
    "        'max_depth': [1,10, 30],\n",
    "        'min_samples_leaf': [1, 5],\n",
    "        'max_features': ['sqrt', 'log2'],\n",
    "        'min_samples_split': [2, 5]}\n",
    "gs = GridSearchCV(rf, param, cv=5, scoring = 'accuracy')\n",
    "gs_fit = gs.fit(X_train, y_train)\n"
   ]
  },
  {
   "cell_type": "code",
   "execution_count": 35,
   "metadata": {},
   "outputs": [],
   "source": [
    "#https://stackoverflow.com/questions/47882126/how-to-print-recall-and-accuracy-along-with-parameters-used-in-a-gridsearch-in-s"
   ]
  },
  {
   "cell_type": "code",
   "execution_count": 36,
   "metadata": {},
   "outputs": [],
   "source": [
    "#gs_fit.cv_results_"
   ]
  },
  {
   "cell_type": "code",
   "execution_count": 37,
   "metadata": {},
   "outputs": [
    {
     "name": "stdout",
     "output_type": "stream",
     "text": [
      "{'max_depth': 30, 'max_features': 'sqrt', 'min_samples_leaf': 5, 'min_samples_split': 2, 'n_estimators': 100}\n"
     ]
    }
   ],
   "source": [
    "best_params = gs_fit.best_params_\n",
    "print(best_params)"
   ]
  },
  {
   "cell_type": "code",
   "execution_count": 38,
   "metadata": {},
   "outputs": [
    {
     "name": "stdout",
     "output_type": "stream",
     "text": [
      "0.5396625\n"
     ]
    }
   ],
   "source": [
    "print(gs_fit.best_score_)"
   ]
  },
  {
   "cell_type": "code",
   "execution_count": 39,
   "metadata": {},
   "outputs": [],
   "source": [
    "y_pred = gs_fit.predict(X_test)"
   ]
  },
  {
   "cell_type": "code",
   "execution_count": 40,
   "metadata": {},
   "outputs": [
    {
     "name": "stdout",
     "output_type": "stream",
     "text": [
      "[1 1 1 ... 3 4 1]\n"
     ]
    }
   ],
   "source": [
    "print(y_pred)"
   ]
  },
  {
   "cell_type": "code",
   "execution_count": 41,
   "metadata": {},
   "outputs": [
    {
     "data": {
      "text/plain": [
       "0.5371"
      ]
     },
     "execution_count": 41,
     "metadata": {},
     "output_type": "execute_result"
    }
   ],
   "source": [
    "#gs_fit accuracy vs test_predict\n",
    "#sikt learn accuracy & confusion matrix\n",
    "\n",
    "from sklearn.metrics import accuracy_score, confusion_matrix\n",
    "\n",
    "accuracy_score(y_test, y_pred)"
   ]
  },
  {
   "cell_type": "code",
   "execution_count": 42,
   "metadata": {},
   "outputs": [
    {
     "data": {
      "text/plain": [
       "array([[15590,  2224,   542,  1650],\n",
       "       [ 6741,  5144,  3858,  4302],\n",
       "       [ 2603,  2087,  6183,  9035],\n",
       "       [ 1344,   447,  2199, 16051]])"
      ]
     },
     "execution_count": 42,
     "metadata": {},
     "output_type": "execute_result"
    }
   ],
   "source": [
    "cm = confusion_matrix(y_test, y_pred)\n",
    "cm"
   ]
  },
  {
   "cell_type": "code",
   "execution_count": 43,
   "metadata": {},
   "outputs": [],
   "source": [
    "import numpy as np"
   ]
  },
  {
   "cell_type": "code",
   "execution_count": 44,
   "metadata": {},
   "outputs": [],
   "source": [
    "def plot_confusion_matrix(cm,\n",
    "                          target_names,\n",
    "                          title='Confusion matrix',\n",
    "                          cmap=None,\n",
    "                          normalize=True):\n",
    "    import matplotlib.pyplot as plt\n",
    "    import numpy as np\n",
    "    import itertools\n",
    "\n",
    "    accuracy = np.trace(cm) / float(np.sum(cm))\n",
    "    misclass = 1 - accuracy\n",
    "\n",
    "    if cmap is None:\n",
    "        cmap = plt.get_cmap('Blues')\n",
    "\n",
    "    plt.figure(figsize=(8, 6))\n",
    "    plt.imshow(cm, interpolation='nearest', cmap=cmap)\n",
    "    plt.title(title)\n",
    "    plt.colorbar()\n",
    "    \n",
    "    if target_names is not None:\n",
    "        tick_marks = np.arange(len(target_names))\n",
    "        plt.xticks(tick_marks, target_names, rotation=45)\n",
    "        plt.yticks(tick_marks, target_names)\n",
    "\n",
    "    if normalize:\n",
    "        cm = cm.astype('float') / cm.sum(axis=1)[:, np.newaxis]\n",
    "\n",
    "\n",
    "    thresh = cm.max() / 1.5 if normalize else cm.max() / 2\n",
    "    for i, j in itertools.product(range(cm.shape[0]), range(cm.shape[1])):\n",
    "        if normalize:\n",
    "            plt.text(j, i, \"{:0.4f}\".format(cm[i, j]),\n",
    "                     horizontalalignment=\"center\",\n",
    "                     color=\"white\" if cm[i, j] > thresh else \"black\")\n",
    "        else:\n",
    "            plt.text(j, i, \"{:,}\".format(cm[i, j]),\n",
    "                     horizontalalignment=\"center\",\n",
    "                     color=\"white\" if cm[i, j] > thresh else \"black\")\n",
    "\n",
    "    plt.tight_layout()\n",
    "    plt.ylabel('True label')\n",
    "    plt.xlabel('Predicted label\\naccuracy={:0.4f}; misclass={:0.4f}'.format(accuracy, misclass))\n",
    "    plt.show()"
   ]
  },
  {
   "cell_type": "code",
   "execution_count": 45,
   "metadata": {},
   "outputs": [
    {
     "data": {
      "image/png": "[encoded data removed]",
      "text/plain": [
       "<Figure size 576x432 with 2 Axes>"
      ]
     },
     "metadata": {
      "needs_background": "light"
     },
     "output_type": "display_data"
    }
   ],
   "source": [
    "plot_confusion_matrix(cm, normalize = False, target_names = [1,2,3,4,5])"
   ]
  },
  {
   "cell_type": "code",
   "execution_count": null,
   "metadata": {},
   "outputs": [],
   "source": []
  },
  {
   "cell_type": "code",
   "execution_count": null,
   "metadata": {},
   "outputs": [],
   "source": []
  },
  {
   "cell_type": "code",
   "execution_count": null,
   "metadata": {},
   "outputs": [],
   "source": [
    "#accuracy\n",
    "#false positives and negatives (classification - confusion matrix) * maximize the diagonal\n",
    "#https://scikit-learn.org/stable/modules/generated/sklearn.metrics.confusion_matrix.html"
   ]
  },
  {
   "cell_type": "code",
   "execution_count": null,
   "metadata": {},
   "outputs": [],
   "source": []
  },
  {
   "cell_type": "code",
   "execution_count": null,
   "metadata": {},
   "outputs": [],
   "source": []
  },
  {
   "cell_type": "code",
   "execution_count": null,
   "metadata": {},
   "outputs": [],
   "source": [
    "#google colabs (google cloud), run this on kaggle?\n",
    "#https://colab.research.google.com/notebooks/intro.ipynb\n",
    "#put a log on the grid search, to see how long it computes/what takes so long\n",
    "#try one or two\n",
    "\n",
    "#clf.grid_scores_\n",
    "#https://stackoverflow.com/questions/22155953/how-to-print-out-an-accuracy-score-for-each-combination-within-gridsearch\n",
    "\n",
    "#let things run for an hour\n",
    "\n",
    "#reduce the columns/rows for the machine learning part 20k rows"
   ]
  },
  {
   "cell_type": "code",
   "execution_count": null,
   "metadata": {},
   "outputs": [],
   "source": [
    "#classification matrix - false positive and negatives\n",
    "# https://scikit-learn.org/stable/modules/generated/sklearn.metrics.confusion_matrix.html"
   ]
  },
  {
   "cell_type": "code",
   "execution_count": null,
   "metadata": {},
   "outputs": [],
   "source": []
  },
  {
   "cell_type": "code",
   "execution_count": null,
   "metadata": {},
   "outputs": [],
   "source": []
  },
  {
   "cell_type": "code",
   "execution_count": null,
   "metadata": {},
   "outputs": [],
   "source": []
  },
  {
   "cell_type": "code",
   "execution_count": null,
   "metadata": {},
   "outputs": [],
   "source": []
  },
  {
   "cell_type": "code",
   "execution_count": null,
   "metadata": {},
   "outputs": [],
   "source": []
  },
  {
   "cell_type": "code",
   "execution_count": null,
   "metadata": {},
   "outputs": [],
   "source": []
  }
 ],
 "metadata": {
  "kernelspec": {
   "display_name": "Python 3",
   "language": "python",
   "name": "python3"
  },
  "language_info": {
   "codemirror_mode": {
    "name": "ipython",
    "version": 3
   },
   "file_extension": ".py",
   "mimetype": "text/x-python",
   "name": "python",
   "nbconvert_exporter": "python",
   "pygments_lexer": "ipython3",
   "version": "3.7.3"
  }
 },
 "nbformat": 4,
 "nbformat_minor": 2
}
